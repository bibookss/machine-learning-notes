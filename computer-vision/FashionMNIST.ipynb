{
  "nbformat": 4,
  "nbformat_minor": 0,
  "metadata": {
    "colab": {
      "provenance": [],
      "toc_visible": true,
      "authorship_tag": "ABX9TyMoUwxYmfCWX1Vdk2k8oDlW",
      "include_colab_link": true
    },
    "kernelspec": {
      "name": "python3",
      "display_name": "Python 3"
    },
    "language_info": {
      "name": "python"
    }
  },
  "cells": [
    {
      "cell_type": "markdown",
      "metadata": {
        "id": "view-in-github",
        "colab_type": "text"
      },
      "source": [
        "<a href=\"https://colab.research.google.com/github/bibookss/machine-learning-notes/blob/main/computer-vision/FashionMNIST.ipynb\" target=\"_parent\"><img src=\"https://colab.research.google.com/assets/colab-badge.svg\" alt=\"Open In Colab\"/></a>"
      ]
    },
    {
      "cell_type": "markdown",
      "source": [
        "## 1. Impot modules"
      ],
      "metadata": {
        "id": "2J6KHxILYKT9"
      }
    },
    {
      "cell_type": "code",
      "source": [
        "import tensorflow as tf"
      ],
      "metadata": {
        "id": "SGJ_fGNWYIy0"
      },
      "execution_count": 2,
      "outputs": []
    },
    {
      "cell_type": "markdown",
      "source": [
        "# 2. Load the dataset"
      ],
      "metadata": {
        "id": "BSyptzIJYQBr"
      }
    },
    {
      "cell_type": "code",
      "source": [
        "data = tf.keras.datasets.fashion_mnist\n",
        "\n",
        "(training_images, training_labels), (test_images, test_labels) = data.load_data()"
      ],
      "metadata": {
        "colab": {
          "base_uri": "https://localhost:8080/"
        },
        "id": "k4D1g3J3YRlo",
        "outputId": "0ccc95b8-ca1b-4261-b00a-bb9638009703"
      },
      "execution_count": 3,
      "outputs": [
        {
          "output_type": "stream",
          "name": "stdout",
          "text": [
            "Downloading data from https://storage.googleapis.com/tensorflow/tf-keras-datasets/train-labels-idx1-ubyte.gz\n",
            "29515/29515 [==============================] - 0s 0us/step\n",
            "Downloading data from https://storage.googleapis.com/tensorflow/tf-keras-datasets/train-images-idx3-ubyte.gz\n",
            "26421880/26421880 [==============================] - 0s 0us/step\n",
            "Downloading data from https://storage.googleapis.com/tensorflow/tf-keras-datasets/t10k-labels-idx1-ubyte.gz\n",
            "5148/5148 [==============================] - 0s 0us/step\n",
            "Downloading data from https://storage.googleapis.com/tensorflow/tf-keras-datasets/t10k-images-idx3-ubyte.gz\n",
            "4422102/4422102 [==============================] - 0s 0us/step\n"
          ]
        }
      ]
    },
    {
      "cell_type": "markdown",
      "source": [
        "# 3. Normalize image values to be between 1 and 255"
      ],
      "metadata": {
        "id": "e4Ri2lVwYeTt"
      }
    },
    {
      "cell_type": "code",
      "source": [
        "training_images = training_images / 255.0\n",
        "test_images = test_images / 255.0"
      ],
      "metadata": {
        "id": "ZajsuSbNYi_w"
      },
      "execution_count": 4,
      "outputs": []
    },
    {
      "cell_type": "code",
      "source": [],
      "metadata": {
        "id": "HAOi1osyYnMo"
      },
      "execution_count": null,
      "outputs": []
    },
    {
      "cell_type": "markdown",
      "source": [
        "# 4. Create a neural network with three layers: input layer, hidden layer, and output layer\n",
        "\n",
        "#### Layers\n",
        "- Flatten returns a 1D vector of the 2D image vectors\n",
        "- Dense creates a layer of neurons with a specified number of nodes\n",
        "- The rectified linear unit of relu is a piecewise function that outputs the number if its positive else its 0\n",
        "- The softmax function maps each class probabilities\n"
      ],
      "metadata": {
        "id": "tiHA7VGkYoLh"
      }
    },
    {
      "cell_type": "code",
      "source": [
        "model = tf.keras.models.Sequential([\n",
        "    tf.keras.layers.Flatten(input_shape=(28,28)),\n",
        "    tf.keras.layers.Dense(128, activation=tf.nn.relu),\n",
        "    tf.keras.layers.Dense(10, activation=tf.nn.softmax)\n",
        "])"
      ],
      "metadata": {
        "id": "6Xg6JUJnYx2a"
      },
      "execution_count": 5,
      "outputs": []
    },
    {
      "cell_type": "markdown",
      "source": [
        "# 5. Compile model\n",
        "\n",
        "#### Compilation\n",
        "- Compiling the model allows it to be configured with certain parameters for traninig\n",
        "- The optimizer function is adam which is an extension of the stochastic GD algorithm\n",
        "- An optimizer optimizes weights in the network\n",
        "- The loss function informs the optimizer to pick optimizations that minimizes loss\n",
        "- The metrics defines by which metrics do we pattern the learning of the model"
      ],
      "metadata": {
        "id": "3TLz3ndHapku"
      }
    },
    {
      "cell_type": "code",
      "source": [
        "model.compile(optimizer='adam',\n",
        "              loss='sparse_categorical_crossentropy',\n",
        "              metrics=['accuracy'])"
      ],
      "metadata": {
        "id": "aBCNGhvTa_ZG"
      },
      "execution_count": 6,
      "outputs": []
    },
    {
      "cell_type": "markdown",
      "source": [
        "# 6. Fitting the model\n"
      ],
      "metadata": {
        "id": "-RMfeVZQc1tN"
      }
    },
    {
      "cell_type": "code",
      "source": [
        "model.fit(training_images, training_labels, epochs=5)"
      ],
      "metadata": {
        "colab": {
          "base_uri": "https://localhost:8080/"
        },
        "id": "Ug5xfal5c09B",
        "outputId": "89157ecc-918b-4165-e8ad-713050d3e25e"
      },
      "execution_count": 7,
      "outputs": [
        {
          "output_type": "stream",
          "name": "stdout",
          "text": [
            "Epoch 1/5\n",
            "1875/1875 [==============================] - 9s 4ms/step - loss: 0.4946 - accuracy: 0.8267\n",
            "Epoch 2/5\n",
            "1875/1875 [==============================] - 6s 3ms/step - loss: 0.3744 - accuracy: 0.8641\n",
            "Epoch 3/5\n",
            "1875/1875 [==============================] - 10s 6ms/step - loss: 0.3368 - accuracy: 0.8762\n",
            "Epoch 4/5\n",
            "1875/1875 [==============================] - 10s 5ms/step - loss: 0.3126 - accuracy: 0.8852\n",
            "Epoch 5/5\n",
            "1875/1875 [==============================] - 7s 4ms/step - loss: 0.2969 - accuracy: 0.8904\n"
          ]
        },
        {
          "output_type": "execute_result",
          "data": {
            "text/plain": [
              "<keras.src.callbacks.History at 0x7be4b9cacaf0>"
            ]
          },
          "metadata": {},
          "execution_count": 7
        }
      ]
    },
    {
      "cell_type": "markdown",
      "source": [
        "# 6. Evauluate the model"
      ],
      "metadata": {
        "id": "nBRSEeqgdXAk"
      }
    },
    {
      "cell_type": "code",
      "source": [
        "model.evaluate(test_images, test_labels)"
      ],
      "metadata": {
        "colab": {
          "base_uri": "https://localhost:8080/"
        },
        "id": "1QufTBCxcwjp",
        "outputId": "f32b09e7-a991-4465-ba83-184a297c8e31"
      },
      "execution_count": 8,
      "outputs": [
        {
          "output_type": "stream",
          "name": "stdout",
          "text": [
            "313/313 [==============================] - 2s 4ms/step - loss: 0.3477 - accuracy: 0.8754\n"
          ]
        },
        {
          "output_type": "execute_result",
          "data": {
            "text/plain": [
              "[0.34766846895217896, 0.8754000067710876]"
            ]
          },
          "metadata": {},
          "execution_count": 8
        }
      ]
    },
    {
      "cell_type": "markdown",
      "source": [
        "# 7. Predicting\n"
      ],
      "metadata": {
        "id": "2kZj4b-5eV7Q"
      }
    },
    {
      "cell_type": "code",
      "source": [
        "classifications = model.predict(test_images)\n",
        "print(classifications[0])\n",
        "print(test_labels[0])"
      ],
      "metadata": {
        "colab": {
          "base_uri": "https://localhost:8080/"
        },
        "id": "r1gKZxo-dbmd",
        "outputId": "6487ecd4-4c51-4ddd-81a8-007c6c4d9081"
      },
      "execution_count": 13,
      "outputs": [
        {
          "output_type": "stream",
          "name": "stdout",
          "text": [
            "313/313 [==============================] - 1s 2ms/step\n",
            "[3.7889354e-06 1.2211420e-08 5.5326160e-07 6.2088242e-07 1.3115181e-06\n",
            " 4.5759612e-04 7.1535369e-06 2.5310829e-02 1.2601276e-04 9.7409219e-01]\n",
            "9\n"
          ]
        }
      ]
    },
    {
      "cell_type": "markdown",
      "source": [
        "# 8. Adding callbacks"
      ],
      "metadata": {
        "id": "_76R4HxGe6Kq"
      }
    },
    {
      "cell_type": "code",
      "source": [
        "class MyCallback(tf.keras.callbacks.Callback):\n",
        "  def on_epoch_end(self, epoch, logs={}):\n",
        "    if (logs.get('accuracy') > 0.90):\n",
        "      print('\\nReached accuracy of 95%.\\nStopping traning...\\n')\n",
        "      self.model.stop_training = True"
      ],
      "metadata": {
        "id": "Uo-o7Dxqe8Bc"
      },
      "execution_count": 21,
      "outputs": []
    },
    {
      "cell_type": "code",
      "source": [
        "callbacks = MyCallback()\n",
        "model.fit(training_images, training_labels, epochs=100, callbacks=[callbacks])"
      ],
      "metadata": {
        "colab": {
          "base_uri": "https://localhost:8080/"
        },
        "id": "VkdPPP74fdQ5",
        "outputId": "d67cdbe9-d9dd-4383-9df3-3449989d07c8"
      },
      "execution_count": 22,
      "outputs": [
        {
          "output_type": "stream",
          "name": "stdout",
          "text": [
            "Epoch 1/100\n",
            "1863/1875 [============================>.] - ETA: 0s - loss: 0.0848 - accuracy: 0.9681\n",
            "Reached accuracy of 95%.\n",
            "Stopping traning...\n",
            "\n",
            "1875/1875 [==============================] - 8s 4ms/step - loss: 0.0848 - accuracy: 0.9682\n"
          ]
        },
        {
          "output_type": "execute_result",
          "data": {
            "text/plain": [
              "<keras.src.callbacks.History at 0x7be48be8ec20>"
            ]
          },
          "metadata": {},
          "execution_count": 22
        }
      ]
    },
    {
      "cell_type": "markdown",
      "source": [
        "## Note\n",
        "Having many epochs on training and getting a higher accuracy does not mean that the model performs well. It just means that the model became well adjusted to the traninig data; it has become overfitted. Thus its performance gain on real life will probably be minimal."
      ],
      "metadata": {
        "id": "rC8-uX3Nf5ON"
      }
    }
  ]
}